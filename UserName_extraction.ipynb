{
 "cells": [
  {
   "cell_type": "code",
   "execution_count": 116,
   "metadata": {},
   "outputs": [],
   "source": [
    "import pandas as pd\n",
    "import numpy as np\n",
    "import json\n",
    "import re"
   ]
  },
  {
   "cell_type": "code",
   "execution_count": 4,
   "metadata": {},
   "outputs": [
    {
     "name": "stderr",
     "output_type": "stream",
     "text": [
      "C:\\Users\\s4282784\\AppData\\Local\\Continuum\\anaconda3\\envs\\R-env\\lib\\site-packages\\IPython\\core\\interactiveshell.py:3343: DtypeWarning: Columns (19,20,21,31,33,34,35,58,59,60) have mixed types.Specify dtype option on import or set low_memory=False.\n",
      "  exec(code_obj, self.user_global_ns, self.user_ns)\n"
     ]
    }
   ],
   "source": [
    "data = pd.read_csv ('tweets_2020.csv')"
   ]
  },
  {
   "cell_type": "code",
   "execution_count": 5,
   "metadata": {},
   "outputs": [
    {
     "name": "stdout",
     "output_type": "stream",
     "text": [
      "<class 'pandas.core.frame.DataFrame'>\n",
      "RangeIndex: 1266467 entries, 0 to 1266466\n",
      "Data columns (total 74 columns):\n",
      " #   Column                                 Non-Null Count    Dtype  \n",
      "---  ------                                 --------------    -----  \n",
      " 0   id                                     1266467 non-null  int64  \n",
      " 1   conversation_id                        1266467 non-null  int64  \n",
      " 2   referenced_tweets.replied_to.id        118933 non-null   float64\n",
      " 3   referenced_tweets.retweeted.id         0 non-null        float64\n",
      " 4   referenced_tweets.quoted.id            4114 non-null     float64\n",
      " 5   author_id                              1266467 non-null  int64  \n",
      " 6   in_reply_to_user_id                    129971 non-null   float64\n",
      " 7   retweeted_user_id                      0 non-null        float64\n",
      " 8   quoted_user_id                         4114 non-null     float64\n",
      " 9   created_at                             1266467 non-null  object \n",
      " 10  text                                   1266467 non-null  object \n",
      " 11  lang                                   1266467 non-null  object \n",
      " 12  source                                 1266467 non-null  object \n",
      " 13  public_metrics.like_count              1266467 non-null  int64  \n",
      " 14  public_metrics.quote_count             1266467 non-null  int64  \n",
      " 15  public_metrics.reply_count             1266467 non-null  int64  \n",
      " 16  public_metrics.retweet_count           1266467 non-null  int64  \n",
      " 17  reply_settings                         1266467 non-null  object \n",
      " 18  possibly_sensitive                     1266467 non-null  bool   \n",
      " 19  withheld.scope                         8 non-null        object \n",
      " 20  withheld.copyright                     13 non-null       object \n",
      " 21  withheld.country_codes                 13 non-null       object \n",
      " 22  entities.annotations                   394376 non-null   object \n",
      " 23  entities.cashtags                      4685 non-null     object \n",
      " 24  entities.hashtags                      274410 non-null   object \n",
      " 25  entities.mentions                      129143 non-null   object \n",
      " 26  entities.urls                          1266356 non-null  object \n",
      " 27  context_annotations                    491149 non-null   object \n",
      " 28  attachments.media                      406236 non-null   object \n",
      " 29  attachments.media_keys                 406236 non-null   object \n",
      " 30  attachments.poll.duration_minutes      30 non-null       float64\n",
      " 31  attachments.poll.end_datetime          30 non-null       object \n",
      " 32  attachments.poll.id                    30 non-null       float64\n",
      " 33  attachments.poll.options               30 non-null       object \n",
      " 34  attachments.poll.voting_status         30 non-null       object \n",
      " 35  attachments.poll_ids                   30 non-null       object \n",
      " 36  author.id                              1266467 non-null  int64  \n",
      " 37  author.created_at                      1266467 non-null  object \n",
      " 38  author.username                        1266467 non-null  object \n",
      " 39  author.name                            1265399 non-null  object \n",
      " 40  author.description                     1135247 non-null  object \n",
      " 41  author.entities.description.cashtags   2486 non-null     object \n",
      " 42  author.entities.description.hashtags   164695 non-null   object \n",
      " 43  author.entities.description.mentions   234559 non-null   object \n",
      " 44  author.entities.description.urls       165517 non-null   object \n",
      " 45  author.entities.url.urls               664458 non-null   object \n",
      " 46  author.location                        717720 non-null   object \n",
      " 47  author.pinned_tweet_id                 422635 non-null   float64\n",
      " 48  author.profile_image_url               1265413 non-null  object \n",
      " 49  author.protected                       1266467 non-null  bool   \n",
      " 50  author.public_metrics.followers_count  1266467 non-null  int64  \n",
      " 51  author.public_metrics.following_count  1266467 non-null  int64  \n",
      " 52  author.public_metrics.listed_count     1266467 non-null  int64  \n",
      " 53  author.public_metrics.tweet_count      1266467 non-null  int64  \n",
      " 54  author.url                             664458 non-null   object \n",
      " 55  author.verified                        1266467 non-null  bool   \n",
      " 56  author.withheld.scope                  0 non-null        float64\n",
      " 57  author.withheld.copyright              0 non-null        float64\n",
      " 58  author.withheld.country_codes          3 non-null        object \n",
      " 59  geo.coordinates.coordinates            988 non-null      object \n",
      " 60  geo.coordinates.type                   988 non-null      object \n",
      " 61  geo.country                            3611 non-null     object \n",
      " 62  geo.country_code                       3611 non-null     object \n",
      " 63  geo.full_name                          3611 non-null     object \n",
      " 64  geo.geo.bbox                           3611 non-null     object \n",
      " 65  geo.geo.type                           3611 non-null     object \n",
      " 66  geo.id                                 3611 non-null     object \n",
      " 67  geo.name                               3611 non-null     object \n",
      " 68  geo.place_id                           3612 non-null     object \n",
      " 69  geo.place_type                         3611 non-null     object \n",
      " 70  __twarc.retrieved_at                   1266467 non-null  object \n",
      " 71  __twarc.url                            1266467 non-null  object \n",
      " 72  __twarc.version                        1266467 non-null  object \n",
      " 73  Unnamed: 73                            0 non-null        float64\n",
      "dtypes: bool(3), float64(12), int64(12), object(47)\n",
      "memory usage: 689.7+ MB\n"
     ]
    }
   ],
   "source": [
    "data.info()"
   ]
  },
  {
   "cell_type": "markdown",
   "metadata": {},
   "source": [
    "# from Users' Bio Url"
   ]
  },
  {
   "cell_type": "code",
   "execution_count": 67,
   "metadata": {},
   "outputs": [],
   "source": [
    "reddit_users = data[data['author.entities.url.urls'].str.contains('reddit.com/u', na=False)]"
   ]
  },
  {
   "cell_type": "code",
   "execution_count": 68,
   "metadata": {},
   "outputs": [],
   "source": [
    "# reddit_users.to_csv('reddit_users_2020.csv')"
   ]
  },
  {
   "cell_type": "code",
   "execution_count": 69,
   "metadata": {},
   "outputs": [],
   "source": [
    "reddit_users=reddit_users.drop_duplicates(subset=['author.username']).reset_index()\n",
    "# reddit_users.to_csv('reddit_unique_users_2020.csv')"
   ]
  },
  {
   "cell_type": "code",
   "execution_count": 70,
   "metadata": {},
   "outputs": [
    {
     "name": "stdout",
     "output_type": "stream",
     "text": [
      "<class 'pandas.core.frame.DataFrame'>\n",
      "RangeIndex: 207 entries, 0 to 206\n",
      "Data columns (total 75 columns):\n",
      " #   Column                                 Non-Null Count  Dtype  \n",
      "---  ------                                 --------------  -----  \n",
      " 0   index                                  207 non-null    int64  \n",
      " 1   id                                     207 non-null    int64  \n",
      " 2   conversation_id                        207 non-null    int64  \n",
      " 3   referenced_tweets.replied_to.id        46 non-null     float64\n",
      " 4   referenced_tweets.retweeted.id         0 non-null      float64\n",
      " 5   referenced_tweets.quoted.id            2 non-null      float64\n",
      " 6   author_id                              207 non-null    int64  \n",
      " 7   in_reply_to_user_id                    55 non-null     float64\n",
      " 8   retweeted_user_id                      0 non-null      float64\n",
      " 9   quoted_user_id                         2 non-null      float64\n",
      " 10  created_at                             207 non-null    object \n",
      " 11  text                                   207 non-null    object \n",
      " 12  lang                                   207 non-null    object \n",
      " 13  source                                 207 non-null    object \n",
      " 14  public_metrics.like_count              207 non-null    int64  \n",
      " 15  public_metrics.quote_count             207 non-null    int64  \n",
      " 16  public_metrics.reply_count             207 non-null    int64  \n",
      " 17  public_metrics.retweet_count           207 non-null    int64  \n",
      " 18  reply_settings                         207 non-null    object \n",
      " 19  possibly_sensitive                     207 non-null    bool   \n",
      " 20  withheld.scope                         0 non-null      object \n",
      " 21  withheld.copyright                     0 non-null      object \n",
      " 22  withheld.country_codes                 0 non-null      object \n",
      " 23  entities.annotations                   64 non-null     object \n",
      " 24  entities.cashtags                      0 non-null      object \n",
      " 25  entities.hashtags                      23 non-null     object \n",
      " 26  entities.mentions                      47 non-null     object \n",
      " 27  entities.urls                          207 non-null    object \n",
      " 28  context_annotations                    80 non-null     object \n",
      " 29  attachments.media                      25 non-null     object \n",
      " 30  attachments.media_keys                 25 non-null     object \n",
      " 31  attachments.poll.duration_minutes      0 non-null      float64\n",
      " 32  attachments.poll.end_datetime          0 non-null      object \n",
      " 33  attachments.poll.id                    0 non-null      float64\n",
      " 34  attachments.poll.options               0 non-null      object \n",
      " 35  attachments.poll.voting_status         0 non-null      object \n",
      " 36  attachments.poll_ids                   0 non-null      object \n",
      " 37  author.id                              207 non-null    int64  \n",
      " 38  author.created_at                      207 non-null    object \n",
      " 39  author.username                        207 non-null    object \n",
      " 40  author.name                            207 non-null    object \n",
      " 41  author.description                     203 non-null    object \n",
      " 42  author.entities.description.cashtags   1 non-null      object \n",
      " 43  author.entities.description.hashtags   32 non-null     object \n",
      " 44  author.entities.description.mentions   30 non-null     object \n",
      " 45  author.entities.description.urls       23 non-null     object \n",
      " 46  author.entities.url.urls               207 non-null    object \n",
      " 47  author.location                        137 non-null    object \n",
      " 48  author.pinned_tweet_id                 124 non-null    float64\n",
      " 49  author.profile_image_url               207 non-null    object \n",
      " 50  author.protected                       207 non-null    bool   \n",
      " 51  author.public_metrics.followers_count  207 non-null    int64  \n",
      " 52  author.public_metrics.following_count  207 non-null    int64  \n",
      " 53  author.public_metrics.listed_count     207 non-null    int64  \n",
      " 54  author.public_metrics.tweet_count      207 non-null    int64  \n",
      " 55  author.url                             207 non-null    object \n",
      " 56  author.verified                        207 non-null    bool   \n",
      " 57  author.withheld.scope                  0 non-null      float64\n",
      " 58  author.withheld.copyright              0 non-null      float64\n",
      " 59  author.withheld.country_codes          0 non-null      object \n",
      " 60  geo.coordinates.coordinates            0 non-null      object \n",
      " 61  geo.coordinates.type                   0 non-null      object \n",
      " 62  geo.country                            0 non-null      object \n",
      " 63  geo.country_code                       0 non-null      object \n",
      " 64  geo.full_name                          0 non-null      object \n",
      " 65  geo.geo.bbox                           0 non-null      object \n",
      " 66  geo.geo.type                           0 non-null      object \n",
      " 67  geo.id                                 0 non-null      object \n",
      " 68  geo.name                               0 non-null      object \n",
      " 69  geo.place_id                           0 non-null      object \n",
      " 70  geo.place_type                         0 non-null      object \n",
      " 71  __twarc.retrieved_at                   207 non-null    object \n",
      " 72  __twarc.url                            207 non-null    object \n",
      " 73  __twarc.version                        207 non-null    object \n",
      " 74  Unnamed: 73                            0 non-null      float64\n",
      "dtypes: bool(3), float64(12), int64(13), object(47)\n",
      "memory usage: 117.2+ KB\n"
     ]
    }
   ],
   "source": [
    "reddit_users.info()"
   ]
  },
  {
   "cell_type": "code",
   "execution_count": 182,
   "metadata": {},
   "outputs": [
    {
     "name": "stdout",
     "output_type": "stream",
     "text": [
      "[{\"start\": 0, \"end\": 23, \"url\": \"https://t.co/MvO42m1cJ4\", \"expanded_url\": \"https://www.reddit.com/u/extrafluffybunn/?utm_source=share&utm_medium=ios_app&utm_name=iossmf\", \"display_url\": \"reddit.com/u/extrafluffyb\\u2026\"}]\n",
      "Reddit_username:\n",
      "extrafluffybunn\n",
      "Twitter_username:\n",
      "JokestarJ\n"
     ]
    }
   ],
   "source": [
    "index=40\n",
    "print(reddit_users.loc[index,]['author.entities.url.urls'])\n",
    "print('Reddit_username:')\n",
    "print(reddit_users.loc[index,]['author.entities.url.urls'].split(\"\\\"expanded_url\\\": \\\"\")[1].split(\"/\")[4].split(\"\\\\\")[0].split(\"\\\"\")[0].split(\"?\")[0])\n",
    "print('Twitter_username:')\n",
    "print(reddit_users.loc[index,]['author.username'])"
   ]
  },
  {
   "cell_type": "code",
   "execution_count": 183,
   "metadata": {},
   "outputs": [],
   "source": [
    "Reddit_username=[]\n",
    "Twitter_username=[]\n",
    "for index in range(len(reddit_users)):\n",
    "    Reddit_username.append(reddit_users.loc[index,]['author.entities.url.urls'].split(\"\\\"expanded_url\\\": \\\"\")[1].split(\"/\")[4].split(\"\\\\\")[0].split(\"\\\"\")[0].split(\"?\")[0])\n",
    "    Twitter_username.append(reddit_users.loc[index,]['author.username'])"
   ]
  },
  {
   "cell_type": "code",
   "execution_count": 195,
   "metadata": {},
   "outputs": [
    {
     "name": "stderr",
     "output_type": "stream",
     "text": [
      "<ipython-input-195-0f4a9594bba6>:3: SettingWithCopyWarning: \n",
      "A value is trying to be set on a copy of a slice from a DataFrame.\n",
      "Try using .loc[row_indexer,col_indexer] = value instead\n",
      "\n",
      "See the caveats in the documentation: https://pandas.pydata.org/pandas-docs/stable/user_guide/indexing.html#returning-a-view-versus-a-copy\n",
      "  users['Reddit_username'] = Reddit_username\n"
     ]
    }
   ],
   "source": [
    "# pd.DataFrame(Reddit_username,Twitter_username).to_csv('usernames.csv')\n",
    "users=reddit_users[['author.id','author.name','author.username']]\n",
    "users['Reddit_username'] = Reddit_username\n",
    "users.to_csv('usernames_Bio.csv')"
   ]
  },
  {
   "cell_type": "markdown",
   "metadata": {},
   "source": [
    "# From Source"
   ]
  },
  {
   "cell_type": "code",
   "execution_count": 97,
   "metadata": {},
   "outputs": [],
   "source": [
    "reddit_source = data[data['source']=='Reddit Official']"
   ]
  },
  {
   "cell_type": "code",
   "execution_count": 38,
   "metadata": {},
   "outputs": [],
   "source": [
    "# reddit_source=reddit_source.drop_duplicates(subset=['author.username']).reset_index()\n",
    "# reddit_source.to_csv('reddit_unique_source_2020.csv')"
   ]
  },
  {
   "cell_type": "code",
   "execution_count": 98,
   "metadata": {},
   "outputs": [
    {
     "name": "stdout",
     "output_type": "stream",
     "text": [
      "<class 'pandas.core.frame.DataFrame'>\n",
      "Int64Index: 66715 entries, 3 to 1266462\n",
      "Data columns (total 74 columns):\n",
      " #   Column                                 Non-Null Count  Dtype  \n",
      "---  ------                                 --------------  -----  \n",
      " 0   id                                     66715 non-null  int64  \n",
      " 1   conversation_id                        66715 non-null  int64  \n",
      " 2   referenced_tweets.replied_to.id        0 non-null      float64\n",
      " 3   referenced_tweets.retweeted.id         0 non-null      float64\n",
      " 4   referenced_tweets.quoted.id            3 non-null      float64\n",
      " 5   author_id                              66715 non-null  int64  \n",
      " 6   in_reply_to_user_id                    0 non-null      float64\n",
      " 7   retweeted_user_id                      0 non-null      float64\n",
      " 8   quoted_user_id                         3 non-null      float64\n",
      " 9   created_at                             66715 non-null  object \n",
      " 10  text                                   66715 non-null  object \n",
      " 11  lang                                   66715 non-null  object \n",
      " 12  source                                 66715 non-null  object \n",
      " 13  public_metrics.like_count              66715 non-null  int64  \n",
      " 14  public_metrics.quote_count             66715 non-null  int64  \n",
      " 15  public_metrics.reply_count             66715 non-null  int64  \n",
      " 16  public_metrics.retweet_count           66715 non-null  int64  \n",
      " 17  reply_settings                         66715 non-null  object \n",
      " 18  possibly_sensitive                     66715 non-null  bool   \n",
      " 19  withheld.scope                         0 non-null      object \n",
      " 20  withheld.copyright                     0 non-null      object \n",
      " 21  withheld.country_codes                 0 non-null      object \n",
      " 22  entities.annotations                   51087 non-null  object \n",
      " 23  entities.cashtags                      52 non-null     object \n",
      " 24  entities.hashtags                      2594 non-null   object \n",
      " 25  entities.mentions                      485 non-null    object \n",
      " 26  entities.urls                          66715 non-null  object \n",
      " 27  context_annotations                    66112 non-null  object \n",
      " 28  attachments.media                      0 non-null      object \n",
      " 29  attachments.media_keys                 0 non-null      object \n",
      " 30  attachments.poll.duration_minutes      0 non-null      float64\n",
      " 31  attachments.poll.end_datetime          0 non-null      object \n",
      " 32  attachments.poll.id                    0 non-null      float64\n",
      " 33  attachments.poll.options               0 non-null      object \n",
      " 34  attachments.poll.voting_status         0 non-null      object \n",
      " 35  attachments.poll_ids                   0 non-null      object \n",
      " 36  author.id                              66715 non-null  int64  \n",
      " 37  author.created_at                      66715 non-null  object \n",
      " 38  author.username                        66715 non-null  object \n",
      " 39  author.name                            66709 non-null  object \n",
      " 40  author.description                     59100 non-null  object \n",
      " 41  author.entities.description.cashtags   209 non-null    object \n",
      " 42  author.entities.description.hashtags   11303 non-null  object \n",
      " 43  author.entities.description.mentions   3277 non-null   object \n",
      " 44  author.entities.description.urls       12686 non-null  object \n",
      " 45  author.entities.url.urls               49149 non-null  object \n",
      " 46  author.location                        45501 non-null  object \n",
      " 47  author.pinned_tweet_id                 20923 non-null  float64\n",
      " 48  author.profile_image_url               66710 non-null  object \n",
      " 49  author.protected                       66715 non-null  bool   \n",
      " 50  author.public_metrics.followers_count  66715 non-null  int64  \n",
      " 51  author.public_metrics.following_count  66715 non-null  int64  \n",
      " 52  author.public_metrics.listed_count     66715 non-null  int64  \n",
      " 53  author.public_metrics.tweet_count      66715 non-null  int64  \n",
      " 54  author.url                             49149 non-null  object \n",
      " 55  author.verified                        66715 non-null  bool   \n",
      " 56  author.withheld.scope                  0 non-null      float64\n",
      " 57  author.withheld.copyright              0 non-null      float64\n",
      " 58  author.withheld.country_codes          0 non-null      object \n",
      " 59  geo.coordinates.coordinates            0 non-null      object \n",
      " 60  geo.coordinates.type                   0 non-null      object \n",
      " 61  geo.country                            0 non-null      object \n",
      " 62  geo.country_code                       0 non-null      object \n",
      " 63  geo.full_name                          0 non-null      object \n",
      " 64  geo.geo.bbox                           0 non-null      object \n",
      " 65  geo.geo.type                           0 non-null      object \n",
      " 66  geo.id                                 0 non-null      object \n",
      " 67  geo.name                               0 non-null      object \n",
      " 68  geo.place_id                           0 non-null      object \n",
      " 69  geo.place_type                         0 non-null      object \n",
      " 70  __twarc.retrieved_at                   66715 non-null  object \n",
      " 71  __twarc.url                            66715 non-null  object \n",
      " 72  __twarc.version                        66715 non-null  object \n",
      " 73  Unnamed: 73                            0 non-null      float64\n",
      "dtypes: bool(3), float64(12), int64(12), object(47)\n",
      "memory usage: 36.8+ MB\n"
     ]
    }
   ],
   "source": [
    "reddit_source.info()"
   ]
  },
  {
   "cell_type": "code",
   "execution_count": 188,
   "metadata": {},
   "outputs": [],
   "source": [
    "reddit_source_user = reddit_source[reddit_source['entities.urls'].str.contains('reddit.com/r/u_', na=False)].reset_index()"
   ]
  },
  {
   "cell_type": "code",
   "execution_count": 205,
   "metadata": {},
   "outputs": [
    {
     "name": "stdout",
     "output_type": "stream",
     "text": [
      "<class 'pandas.core.frame.DataFrame'>\n",
      "RangeIndex: 3743 entries, 0 to 3742\n",
      "Data columns (total 76 columns):\n",
      " #   Column                                 Non-Null Count  Dtype  \n",
      "---  ------                                 --------------  -----  \n",
      " 0   level_0                                3743 non-null   int64  \n",
      " 1   index                                  3743 non-null   int64  \n",
      " 2   id                                     3743 non-null   int64  \n",
      " 3   conversation_id                        3743 non-null   int64  \n",
      " 4   referenced_tweets.replied_to.id        0 non-null      float64\n",
      " 5   referenced_tweets.retweeted.id         0 non-null      float64\n",
      " 6   referenced_tweets.quoted.id            1 non-null      float64\n",
      " 7   author_id                              3743 non-null   int64  \n",
      " 8   in_reply_to_user_id                    0 non-null      float64\n",
      " 9   retweeted_user_id                      0 non-null      float64\n",
      " 10  quoted_user_id                         1 non-null      float64\n",
      " 11  created_at                             3743 non-null   object \n",
      " 12  text                                   3743 non-null   object \n",
      " 13  lang                                   3743 non-null   object \n",
      " 14  source                                 3743 non-null   object \n",
      " 15  public_metrics.like_count              3743 non-null   int64  \n",
      " 16  public_metrics.quote_count             3743 non-null   int64  \n",
      " 17  public_metrics.reply_count             3743 non-null   int64  \n",
      " 18  public_metrics.retweet_count           3743 non-null   int64  \n",
      " 19  reply_settings                         3743 non-null   object \n",
      " 20  possibly_sensitive                     3743 non-null   bool   \n",
      " 21  withheld.scope                         0 non-null      object \n",
      " 22  withheld.copyright                     0 non-null      object \n",
      " 23  withheld.country_codes                 0 non-null      object \n",
      " 24  entities.annotations                   2943 non-null   object \n",
      " 25  entities.cashtags                      1 non-null      object \n",
      " 26  entities.hashtags                      103 non-null    object \n",
      " 27  entities.mentions                      10 non-null     object \n",
      " 28  entities.urls                          3743 non-null   object \n",
      " 29  context_annotations                    3713 non-null   object \n",
      " 30  attachments.media                      0 non-null      object \n",
      " 31  attachments.media_keys                 0 non-null      object \n",
      " 32  attachments.poll.duration_minutes      0 non-null      float64\n",
      " 33  attachments.poll.end_datetime          0 non-null      object \n",
      " 34  attachments.poll.id                    0 non-null      float64\n",
      " 35  attachments.poll.options               0 non-null      object \n",
      " 36  attachments.poll.voting_status         0 non-null      object \n",
      " 37  attachments.poll_ids                   0 non-null      object \n",
      " 38  author.id                              3743 non-null   int64  \n",
      " 39  author.created_at                      3743 non-null   object \n",
      " 40  author.username                        3743 non-null   object \n",
      " 41  author.name                            3743 non-null   object \n",
      " 42  author.description                     3219 non-null   object \n",
      " 43  author.entities.description.cashtags   4 non-null      object \n",
      " 44  author.entities.description.hashtags   366 non-null    object \n",
      " 45  author.entities.description.mentions   129 non-null    object \n",
      " 46  author.entities.description.urls       633 non-null    object \n",
      " 47  author.entities.url.urls               2540 non-null   object \n",
      " 48  author.location                        2482 non-null   object \n",
      " 49  author.pinned_tweet_id                 1047 non-null   float64\n",
      " 50  author.profile_image_url               3743 non-null   object \n",
      " 51  author.protected                       3743 non-null   bool   \n",
      " 52  author.public_metrics.followers_count  3743 non-null   int64  \n",
      " 53  author.public_metrics.following_count  3743 non-null   int64  \n",
      " 54  author.public_metrics.listed_count     3743 non-null   int64  \n",
      " 55  author.public_metrics.tweet_count      3743 non-null   int64  \n",
      " 56  author.url                             2540 non-null   object \n",
      " 57  author.verified                        3743 non-null   bool   \n",
      " 58  author.withheld.scope                  0 non-null      float64\n",
      " 59  author.withheld.copyright              0 non-null      float64\n",
      " 60  author.withheld.country_codes          0 non-null      object \n",
      " 61  geo.coordinates.coordinates            0 non-null      object \n",
      " 62  geo.coordinates.type                   0 non-null      object \n",
      " 63  geo.country                            0 non-null      object \n",
      " 64  geo.country_code                       0 non-null      object \n",
      " 65  geo.full_name                          0 non-null      object \n",
      " 66  geo.geo.bbox                           0 non-null      object \n",
      " 67  geo.geo.type                           0 non-null      object \n",
      " 68  geo.id                                 0 non-null      object \n",
      " 69  geo.name                               0 non-null      object \n",
      " 70  geo.place_id                           0 non-null      object \n",
      " 71  geo.place_type                         0 non-null      object \n",
      " 72  __twarc.retrieved_at                   3743 non-null   object \n",
      " 73  __twarc.url                            3743 non-null   object \n",
      " 74  __twarc.version                        3743 non-null   object \n",
      " 75  Unnamed: 73                            0 non-null      float64\n",
      "dtypes: bool(3), float64(12), int64(14), object(47)\n",
      "memory usage: 2.1+ MB\n"
     ]
    }
   ],
   "source": [
    "reddit_source_user=reddit_source_user.drop_duplicates(subset=['author.username']).reset_index()\n",
    "reddit_source_user.info()"
   ]
  },
  {
   "cell_type": "code",
   "execution_count": 221,
   "metadata": {
    "scrolled": true
   },
   "outputs": [
    {
     "name": "stdout",
     "output_type": "stream",
     "text": [
      "[{\"start\": 15, \"end\": 38, \"url\": \"https://t.co/syQdCG9g8B\", \"expanded_url\": \"https://www.reddit.com/user/123tonks123/draft/158ab4c2-4a8e-11eb-8312-a2816d891002\", \"display_url\": \"reddit.com/user/123tonks1\\u2026\", \"status\": 200, \"unwound_url\": \"https://www.reddit.com/user/123tonks123/draft/158ab4c2-4a8e-11eb-8312-a2816d891002\"}, {\"start\": 51, \"end\": 74, \"url\": \"https://t.co/v3l4iOUIT5\", \"expanded_url\": \"https://www.reddit.com/r/u_123tonks123/comments/kn09o0/httpswwwredditcomuser123tonks123draft158ab4c24a8e1/?utm_content=post&utm_medium=twitter&utm_source=share&utm_name=submit&utm_term=t3_kn09o0\", \"display_url\": \"reddit.com/r/u_123tonks12\\u2026\", \"status\": 200, \"unwound_url\": \"https://www.reddit.com/user/123tonks123/comments/kn09o0/httpswwwredditcomuser123tonks123draft158ab4c24a8e1/?utm_content=post&utm_medium=twitter&utm_name=submit&utm_source=share&utm_term=t3_kn09o0\"}]\n",
      "123tonks123\n",
      "Tonks29988785\n"
     ]
    }
   ],
   "source": [
    "index=133\n",
    "print(reddit_source_user.loc[index,]['entities.urls'])\n",
    "print(reddit_source_user.loc[index,]['entities.urls'].split(\"\\\"expanded_url\\\": \\\"https://www.reddit.com/r/u_\")[1].split(\"/\")[0])\n",
    "print(reddit_source_user.loc[index,]['author.username'])"
   ]
  },
  {
   "cell_type": "code",
   "execution_count": 222,
   "metadata": {},
   "outputs": [],
   "source": [
    "Reddit_username=[]\n",
    "for index in range(len(reddit_source_user)):\n",
    "    Reddit_username.append(reddit_source_user.loc[index,]['entities.urls'].split(\"\\\"expanded_url\\\": \\\"https://www.reddit.com/r/u_\")[1].split(\"/\")[0])"
   ]
  },
  {
   "cell_type": "code",
   "execution_count": 223,
   "metadata": {},
   "outputs": [
    {
     "name": "stderr",
     "output_type": "stream",
     "text": [
      "<ipython-input-223-07455e72156e>:2: SettingWithCopyWarning: \n",
      "A value is trying to be set on a copy of a slice from a DataFrame.\n",
      "Try using .loc[row_indexer,col_indexer] = value instead\n",
      "\n",
      "See the caveats in the documentation: https://pandas.pydata.org/pandas-docs/stable/user_guide/indexing.html#returning-a-view-versus-a-copy\n",
      "  users['Reddit_username'] = Reddit_username\n"
     ]
    }
   ],
   "source": [
    "users=reddit_source_user[['text','author.id','author.name','author.username']]\n",
    "users['Reddit_username'] = Reddit_username\n",
    "users.to_csv('usernames_Source.csv')"
   ]
  }
 ],
 "metadata": {
  "kernelspec": {
   "display_name": "Python 3",
   "language": "python",
   "name": "python3"
  },
  "language_info": {
   "codemirror_mode": {
    "name": "ipython",
    "version": 3
   },
   "file_extension": ".py",
   "mimetype": "text/x-python",
   "name": "python",
   "nbconvert_exporter": "python",
   "pygments_lexer": "ipython3",
   "version": "3.8.3"
  }
 },
 "nbformat": 4,
 "nbformat_minor": 4
}
